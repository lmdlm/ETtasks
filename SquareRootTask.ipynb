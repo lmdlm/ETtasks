{
 "cells": [
  {
   "cell_type": "markdown",
   "metadata": {},
   "source": [
    "# Tasks"
   ]
  },
  {
   "cell_type": "markdown",
   "metadata": {},
   "source": [
    "Task 1\n",
    "Square root in python \n",
    "In Python we have ** operator to calculate power. If we want to calculate square root of a number(2) our power should be (1/2)\n",
    "[1] https://www.pythonpool.com/square-root-in-python/\n",
    "[2] https://www.w3resource.com/python-exercises/math/python-math-exercise-18.php\n",
    "\n",
    "To display result to 100 decimal places we need to use\n",
    "[3] https://stackoverflow.com/questions/22162522/how-to-display-a-decimal-number-to-100-decimal-places\n",
    "[4] https://stackoverflow.com/questions/64278117/is-there-a-way-to-create-more-decimal-points-on-python-without-importing-a-libra?noredirect=1&lq=1"
   ]
  },
  {
   "cell_type": "code",
   "execution_count": 93,
   "metadata": {},
   "outputs": [
    {
     "name": "stdout",
     "output_type": "stream",
     "text": [
      "1.4142135623730951\n",
      "1.4142135623730951454746218587388284504413604736328125000000000000000000000000000000000000000000000000\n",
      "1.4142135623730951454746218587388284504413604736328125000000000000000000000000000000000000000000000000\n",
      "1.4142135623730951454746218587388284504413604736328125\n",
      "The Square root of 2 = 1.41421356237309492343001693370752036571502685546875\n",
      "1.4142135623730949234300169337075203657150268554687500000000000000000000000000000000000000000000000000\n",
      "1.41421356237309492343001693370752036571502685546875\n"
     ]
    }
   ],
   "source": [
    "from decimal import *\n",
    "\n",
    "def sqrt(n):\n",
    "  if n < 0:\n",
    "    return\n",
    "  else:\n",
    "    return n**0.5\n",
    "  \n",
    "print(sqrt(2))\n",
    "print(\"{0:.100f}\".format(sqrt(2)))\n",
    "b = sqrt(2)\n",
    "print('%.100f' % a)\n",
    "decimal.getcontext().prec = 10\n",
    "a = Decimal(sqrt(2))\n",
    "print(a)\n",
    "\n",
    "def BabylonianAlgorithm(number):\n",
    "    if(number == 0):\n",
    "        return 0;\n",
    "\n",
    "    g = number/2.0;\n",
    "    g2 = g + 1;\n",
    "    while(g != g2):\n",
    "        n = number/ g;\n",
    "        g2 = g;\n",
    "        g = (g + n)/2;\n",
    "\n",
    "    return Decimal(g);\n",
    "print('The Square root of 2 =', BabylonianAlgorithm(2));\n",
    "print(\"{0:.100f}\".format(BabylonianAlgorithm(2)));\n",
    "decimal.getcontext().prec = 100\n",
    "Decimal(BabylonianAlgorithm(2));\n",
    "print(BabylonianAlgorithm(2));"
   ]
  },
  {
   "cell_type": "code",
   "execution_count": 91,
   "metadata": {},
   "outputs": [
    {
     "name": "stdout",
     "output_type": "stream",
     "text": [
      "1.4142135623730950488016887242096980785696718753769480731766797379907324784621070388503875343276415727\n"
     ]
    }
   ],
   "source": [
    "# https://stackoverflow.com/questions/64278117/is-there-a-way-to-create-more-decimal-points-on-python-without-importing-a-libra?noredirect=1&lq=1\n",
    "x = 2 * 10 ** 200\n",
    "\n",
    "r = x\n",
    "\n",
    "def test_diffs(x, r):\n",
    "    d0 = abs(x - r**2)\n",
    "    dm = abs(x - (r-1)**2)\n",
    "    dp = abs(x - (r+1)**2)\n",
    "    minimised = d0 <= dm and d0 <= dp\n",
    "    below_min = dp < dm\n",
    "    return minimised, below_min\n",
    "\n",
    "while True:\n",
    "    oldr = r\n",
    "    r = (r + x // r) // 2\n",
    "\n",
    "    minimised, below_min = test_diffs(x, r)\n",
    "    if minimised:\n",
    "        break\n",
    "\n",
    "    if r == oldr:\n",
    "        if below_min:\n",
    "            r += 1\n",
    "        else:\n",
    "            r -= 1\n",
    "        minimised, _ = test_diffs(x, r)\n",
    "        if minimised:\n",
    "            break\n",
    "\n",
    "print(f'{r // 10**100}.{r % 10**100:0100d}')"
   ]
  },
  {
   "cell_type": "code",
   "execution_count": null,
   "metadata": {},
   "outputs": [],
   "source": []
  }
 ],
 "metadata": {
  "kernelspec": {
   "display_name": "Python 3",
   "language": "python",
   "name": "python3"
  },
  "language_info": {
   "codemirror_mode": {
    "name": "ipython",
    "version": 3
   },
   "file_extension": ".py",
   "mimetype": "text/x-python",
   "name": "python",
   "nbconvert_exporter": "python",
   "pygments_lexer": "ipython3",
   "version": "3.8.3"
  }
 },
 "nbformat": 4,
 "nbformat_minor": 4
}
